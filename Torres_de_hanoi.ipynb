{
  "nbformat": 4,
  "nbformat_minor": 0,
  "metadata": {
    "colab": {
      "provenance": [],
      "authorship_tag": "ABX9TyMm9cz3dIBSm5bI50NlXdf9",
      "include_colab_link": true
    },
    "kernelspec": {
      "name": "python3",
      "display_name": "Python 3"
    },
    "language_info": {
      "name": "python"
    }
  },
  "cells": [
    {
      "cell_type": "markdown",
      "metadata": {
        "id": "view-in-github",
        "colab_type": "text"
      },
      "source": [
        "<a href=\"https://colab.research.google.com/github/l24590562-cyber/PractiacaTorresDeHanoi/blob/main/Torres_de_hanoi.ipynb\" target=\"_parent\"><img src=\"https://colab.research.google.com/assets/colab-badge.svg\" alt=\"Open In Colab\"/></a>"
      ]
    },
    {
      "cell_type": "code",
      "execution_count": 1,
      "metadata": {
        "colab": {
          "base_uri": "https://localhost:8080/"
        },
        "id": "2C8dDuJTTRv2",
        "outputId": "231b4109-6b99-4fcc-c246-0dcaf939b200"
      },
      "outputs": [
        {
          "output_type": "stream",
          "name": "stdout",
          "text": [
            "Ingresa el número de discos: 4\n",
            "Resolviendo Torres de Hanoi con 4 discos:\n",
            "\n",
            "Mover disco 1 de A a B\n",
            "Mover disco 2 de A a C\n",
            "Mover disco 1 de B a C\n",
            "Mover disco 3 de A a B\n",
            "Mover disco 1 de C a A\n",
            "Mover disco 2 de C a B\n",
            "Mover disco 1 de A a B\n",
            "Mover disco 4 de A a C\n",
            "Mover disco 1 de B a C\n",
            "Mover disco 2 de B a A\n",
            "Mover disco 1 de C a A\n",
            "Mover disco 3 de B a C\n",
            "Mover disco 1 de A a B\n",
            "Mover disco 2 de A a C\n",
            "Mover disco 1 de B a C\n",
            "\n",
            " Gracias por utilizar nuestro programa :)) ...\n",
            "\n"
          ]
        }
      ],
      "source": [
        "#Instituto Tecnológico de san Juan del Rio / Tecnológico Nacional de México\n",
        "#Brenda Avila Gutierrez\n",
        "#Ingenieria en Sistemas Computacionales\n",
        "#Estructura de datos\n",
        "#Grupo \"C\"\n",
        "#Practica 12, Torres de Hanoi\n",
        "\n",
        "def hanoi(n, origen, auxiliar, destino):\n",
        "    if n == 1:\n",
        "        print(\"Mover disco \" + str(1) + \" de \" + origen + \" a \" + destino)\n",
        "    else:\n",
        "        hanoi(n-1, origen, destino, auxiliar)\n",
        "        print(\"Mover disco \" + str(n) + \" de \" + origen + \" a \" + destino)\n",
        "        hanoi(n-1, auxiliar, origen, destino)\n",
        "\n",
        "n = int(input(\"Ingresa el número de discos: \"))\n",
        "\n",
        "print(\"Resolviendo Torres de Hanoi con \" + str(n) + \" discos:\\n\")\n",
        "hanoi(n, \"A\", \"B\", \"C\")\n",
        "\n",
        "print(\"\\n Gracias por utilizar nuestro programa :)) ...\\n\")"
      ]
    }
  ]
}